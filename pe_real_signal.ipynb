{
 "cells": [
  {
   "cell_type": "code",
   "execution_count": 10,
   "id": "8eb15b89",
   "metadata": {},
   "outputs": [],
   "source": [
    "import numpy as np\n",
    "import matplotlib.pyplot as plt\n",
    "%matplotlib inline\n",
    "import lal\n",
    "import copy\n",
    "import pickle\n",
    "import copy\n",
    "import pandas as pd\n",
    "import corner\n",
    "import torch"
   ]
  },
  {
   "cell_type": "code",
   "execution_count": 11,
   "id": "3c9ad321",
   "metadata": {},
   "outputs": [],
   "source": [
    "from pyRing.waveform import KerrBH\n",
    "from pycbc.detector import Detector\n",
    "from pyRing.likelihood import project\n",
    "from tqdm import tqdm\n",
    "from pyRing.noise import bandpass_data\n",
    "from pyRing.utils import whiten_TD"
   ]
  },
  {
   "cell_type": "code",
   "execution_count": 12,
   "id": "42c98f29",
   "metadata": {},
   "outputs": [],
   "source": [
    "from scipy.linalg import toeplitz\n",
    "from scipy.stats       import multivariate_normal\n",
    "from scipy.interpolate import interp1d\n",
    "from scipy.signal      import butter, filtfilt"
   ]
  },
  {
   "cell_type": "code",
   "execution_count": 4,
   "id": "418f26eb",
   "metadata": {},
   "outputs": [],
   "source": [
    "load_priors = True\n",
    "load_strain =  False\n",
    "prior_path = '/Users/rcotesta/Projects/neural_ringdowns/simulation_based_inference_ringdown/data/priors/'\n",
    "strain_path = '/Users/rcotesta/Projects/neural_ringdowns/simulation_based_inference_ringdown/data/h/'\n",
    "noise_path = '/Users/rcotesta/Projects/neural_ringdowns/simulation_based_inference_ringdown/data/noise/'\n",
    "whitened_signal_path = '/Users/rcotesta/Projects/neural_ringdowns/simulation_based_inference_ringdown/data/whitened_signal/'\n",
    "bandpassed_signal_path = '/Users/rcotesta/Projects/neural_ringdowns/simulation_based_inference_ringdown/data/bandpassed_signals/'\n",
    "prior_file = 'prior_Mf_20_150_af_0.00_0.99_A0_1e-21_5e-20_phi_0.00_6.28.npy'\n",
    "strain_filename = 'strain_Mf_20_150_af_0.00_0.99_A0_1e-21_5e-20_phi_0.00_6.28_srate_2048Hz_duration_0.024s.npy'"
   ]
  },
  {
   "cell_type": "markdown",
   "id": "c7ae5b01",
   "metadata": {},
   "source": [
    "# Definition global settings signal and parameter space"
   ]
  },
  {
   "cell_type": "code",
   "execution_count": 5,
   "id": "b63c47c4",
   "metadata": {},
   "outputs": [],
   "source": [
    "# Set the interferometer\n",
    "ifo = 'H1'\n",
    "\n",
    "# Setting sky position, arrival time and inclination\n",
    "ra, dec, psi = 1.95, -1.27, 0.82\n",
    "tGPS = 1126259462.4083046\n",
    "inclination = np.pi\n",
    "\n",
    "# Setting sampling rate and duration\n",
    "sr = 2048\n",
    "dt = 1/sr\n",
    "tmax = 50./sr\n",
    "fmax = 1022.\n",
    "fmin = 20.\n",
    "times = np.arange(0,tmax,dt)\n",
    "\n",
    "# Set the prior bounds on final mass, spins, amplitudes and phases\n",
    "prior_bounds = {}\n",
    "prior_bounds['Mf'] = [20,150] \n",
    "prior_bounds['af'] = [0,0.99]\n",
    "prior_bounds['A0'] = [1e-21,5e-20]\n",
    "prior_bounds['phi'] = [0,2*np.pi]\n",
    "\n",
    "\n",
    "priors = {}\n",
    "# number of points in the prior\n",
    "Nprior = int(1e6)\n",
    "# option to load the prior from outside or to generate it\n",
    "if load_priors == True:\n",
    "    prior_loaded = np.load(prior_path+prior_file)\n",
    "    priors['Mf'] = prior_loaded[:,0]\n",
    "    priors['af'] = prior_loaded[:,1]\n",
    "    priors['A0'] = prior_loaded[:,2]\n",
    "    priors['phi'] = prior_loaded[:,3]\n",
    "else:\n",
    "    # generate the prior\n",
    "    priors = {key:np.random.uniform(*prior_bounds[key],size=Nprior) for key in prior_bounds.keys()}\n",
    "    prior_file = 'prior_Mf_{:.0f}_{:.0f}_af_{:.2f}_{:.2f}_A0_{}_{}_phi_{:.2f}_{:.2f}.npy'.format(*np.array(list(prior_bounds.values()),dtype=float).reshape(8,))\n",
    "    np.save(prior_path+prior_file,np.column_stack(list(priors.values())))"
   ]
  },
  {
   "cell_type": "markdown",
   "id": "cbe50b5b",
   "metadata": {},
   "source": [
    "# Generate signals"
   ]
  },
  {
   "cell_type": "code",
   "execution_count": 19,
   "id": "8a069c51",
   "metadata": {},
   "outputs": [
    {
     "name": "stderr",
     "output_type": "stream",
     "text": [
      "100%|██████████████████████████████████████████████████████████████████████████████████████████████████████████| 1000000/1000000 [05:05<00:00, 3273.00it/s]\n"
     ]
    }
   ],
   "source": [
    "# Option to generate the signals or to load them from outside\n",
    "if load_strain == True:\n",
    "    strains = np.load(strain_path+strain_filename)\n",
    "else:\n",
    "    amps = {}\n",
    "    labels = np.load(prior_path+prior_file)\n",
    "    nsamples, nparams = labels.shape\n",
    "    strains = np.zeros((nsamples,len(times)))\n",
    "    for i in tqdm(range(nsamples)):\n",
    "        Mf, af, amps[2,2,2,0], phi = labels[i]\n",
    "        # Generate signals using pyRing\n",
    "        Kerr = KerrBH(0., Mf, af,amps,1.,inclination,phi,None,amp_non_prec_sym = 1,reference_amplitude = 1)\n",
    "        # Projection of the signals in the polarization basis\n",
    "        hs, hvx, hvy, hp, hc = Kerr.waveform(times)\n",
    "        # Projection of the signals in the detectors\n",
    "        h = project(hs, hvx, hvy, hp, hc, lal.cached_detector_by_prefix[ifo], ra, dec, psi, tGPS)\n",
    "        strains[i] = h \n",
    "    # save signals    \n",
    "    strain_filename = 'strain_Mf_{:.0f}_{:.0f}_af_{:.2f}_{:.2f}_A0_{}_{}_phi_{:.2f}_{:.2f}_srate_{}Hz_duration_{:.3f}s.npy'.format(*np.array(list(prior_bounds.values()),dtype=float).reshape(8,),sr,tmax)\n",
    "    np.save(strain_path+strain_filename,strains)    "
   ]
  },
  {
   "cell_type": "markdown",
   "id": "4848f852",
   "metadata": {},
   "source": [
    "# Generate noise"
   ]
  },
  {
   "cell_type": "code",
   "execution_count": 20,
   "id": "8de2ca0c",
   "metadata": {},
   "outputs": [],
   "source": [
    "# load PSD\n",
    "freqs, H1_PSD, L1_PSD = np.loadtxt('./GWTC1_GW150914_PSDs.dat',delimiter='\\t',unpack=True,skiprows=1,dtype=np.float64)"
   ]
  },
  {
   "cell_type": "code",
   "execution_count": 21,
   "id": "c29a030c",
   "metadata": {},
   "outputs": [
    {
     "name": "stderr",
     "output_type": "stream",
     "text": [
      "100%|████████████████████████████████████████████████████████████████████████████████████████████████████████| 1000000/1000000 [00:01<00:00, 596427.72it/s]\n"
     ]
    }
   ],
   "source": [
    "# generate noise and add it to the signal\n",
    "noises = np.zeros(strains.shape)\n",
    "for i in tqdm(range(strains.shape[0])):\n",
    "    # Since I will whiten the signal, I am already generating white noise\n",
    "    noises[i] = np.random.normal(size=len(times))"
   ]
  },
  {
   "cell_type": "code",
   "execution_count": 25,
   "id": "00c75703",
   "metadata": {},
   "outputs": [],
   "source": [
    "#save noise\n",
    "noise_filename = 'white_noise_T_segment_{:.2f}s_srate_{}Hz.npy'.format(tmax,sr)\n",
    "np.save(noise_path+noise_filename,noises)"
   ]
  },
  {
   "cell_type": "markdown",
   "id": "02842e93",
   "metadata": {},
   "source": [
    "## Whiten strain"
   ]
  },
  {
   "cell_type": "code",
   "execution_count": 26,
   "id": "abf956ca",
   "metadata": {},
   "outputs": [],
   "source": [
    "# load PSD\n",
    "freqs, H1_PSD, L1_PSD = np.loadtxt('./GWTC1_GW150914_PSDs.dat',delimiter='\\t',unpack=True,skiprows=1,dtype=np.float64)"
   ]
  },
  {
   "cell_type": "code",
   "execution_count": 27,
   "id": "299d307e",
   "metadata": {},
   "outputs": [],
   "source": [
    "# compute noise properties\n",
    "multiple_tmax = 1\n",
    "tmax_noise = multiple_tmax*tmax\n",
    "N_points  = int(tmax_noise*sr)\n",
    "psd_cgn   = interp1d(freqs, H1_PSD, fill_value='extrapolate', bounds_error=False)\n",
    "freqs_cgn = np.fft.rfftfreq(N_points, d = dt)\n",
    "df_cgn    = np.diff(freqs_cgn)[0]\n",
    "\n",
    "# computing autocorrelation matrix from PSD\n",
    "ACF_cgn            = 0.5*np.real(np.fft.irfft(psd_cgn(freqs_cgn)*df_cgn))*N_points\n",
    "# toeplitz decomposition of autocorrelation function\n",
    "C_cgn              = toeplitz(ACF_cgn)\n",
    "cgn                = multivariate_normal(mean = np.zeros(C_cgn.shape[0]), cov = C_cgn)\n",
    "# cholesky decomposition of autocorrelation matrix\n",
    "cholesky_matrix = np.linalg.cholesky(C_cgn)"
   ]
  },
  {
   "cell_type": "code",
   "execution_count": 33,
   "id": "ba32deb4",
   "metadata": {},
   "outputs": [],
   "source": [
    "whiten_strains = np.zeros((nsamples,len(times)))\n",
    "# compute whiten signals\n",
    "whiten_strains = np.array([whiten_TD(strains[i],cholesky_matrix) for i in range(nsamples)])"
   ]
  },
  {
   "cell_type": "code",
   "execution_count": 44,
   "id": "e625a5cc",
   "metadata": {},
   "outputs": [],
   "source": [
    "# add whiten signals to noise\n",
    "signals = whiten_strains + noises"
   ]
  },
  {
   "cell_type": "code",
   "execution_count": 46,
   "id": "e348c993",
   "metadata": {},
   "outputs": [],
   "source": [
    "#save signals\n",
    "whitened_signal_file = 'signal_withened_Mf_{:.0f}_{:.0f}_af_{:.2f}_{:.2f}_A0_{}_{}_phi_{:.2f}_{:.2f}_T_segment_{:.2f}s_srate_{}Hz.npy'.format(*np.array(list(prior_bounds.values()),dtype=float).reshape(8,),tmax,sr)\n",
    "np.save(whitened_signal_path+whitened_signal_file,signals)"
   ]
  },
  {
   "cell_type": "markdown",
   "id": "8cafe1f0",
   "metadata": {},
   "source": [
    "## Compute SNR"
   ]
  },
  {
   "cell_type": "code",
   "execution_count": 8,
   "id": "533fe9df",
   "metadata": {},
   "outputs": [],
   "source": [
    "from pyRing.utils import compute_SNR_TD"
   ]
  },
  {
   "cell_type": "code",
   "execution_count": 48,
   "id": "7e319876",
   "metadata": {},
   "outputs": [],
   "source": [
    "SNRs = np.array([compute_SNR_TD(strains[i], strains[i], cholesky_matrix, method='cholesky-solve-triangular') for i in range(len(strains))])"
   ]
  },
  {
   "cell_type": "markdown",
   "id": "e05743e8",
   "metadata": {},
   "source": [
    "## Bandpass signal"
   ]
  },
  {
   "cell_type": "code",
   "execution_count": 18,
   "id": "e5c24a9d",
   "metadata": {},
   "outputs": [
    {
     "name": "stderr",
     "output_type": "stream",
     "text": [
      "100%|██████████████████████████████████████████████████████████████████████████████████████████████████████████| 1000000/1000000 [02:08<00:00, 7800.34it/s]\n"
     ]
    }
   ],
   "source": [
    "# bandbass signals\n",
    "signals_bandpassed = np.zeros(strains.shape)\n",
    "for i in tqdm(range(signals.shape[0])):\n",
    "    bb, ab = butter(4, [fmin/(0.5*sr), fmax/(0.5*sr)], btype='band')\n",
    "    signals_bandpassed[i] = filtfilt(bb, ab, signals[i])"
   ]
  },
  {
   "cell_type": "code",
   "execution_count": 24,
   "id": "d526332c",
   "metadata": {},
   "outputs": [],
   "source": [
    "#save bandpassed signal\n",
    "signal_bandpassed_file = 'signal_bandpassed_Mf_{:.0f}_{:.0f}_af_{:.2f}_{:.2f}_A0_{}_{}_phi_{:.2f}_{:.2f}_T_segment_{:.2f}s_T_noise_{:.3f}s_srate_{}Hz.npy'.format(*np.array(list(prior_bounds.values()),dtype=float).reshape(8,),tmax_noise,tmax,sr)\n",
    "np.save(bandpassed_signal_path+signal_bandpassed_file,signals_bandpassed)"
   ]
  },
  {
   "cell_type": "code",
   "execution_count": 41,
   "id": "fb04aa99",
   "metadata": {},
   "outputs": [],
   "source": [
    "np.save('/Users/rcotesta/Projects/neural_ringdowns/simulation_based_inference_ringdown/data/train_samples_signals_bandpassed_def_2048.npy',signals_bandpassed)"
   ]
  },
  {
   "cell_type": "markdown",
   "id": "be56e260",
   "metadata": {},
   "source": [
    "# Test model"
   ]
  },
  {
   "cell_type": "code",
   "execution_count": 6,
   "id": "e2f05d4a",
   "metadata": {},
   "outputs": [],
   "source": [
    "## load model\n",
    "with open('/Users/rcotesta/Projects/neural_ringdowns/simulation_based_inference_ringdown/data/model_data/maf_whitened_Kerr220_def_2048_1E+05_hidden_features_50_num_trasforms_10_norm.pkl', \"rb\") as handle:\n",
    "    posterior_generator = pickle.load(handle)"
   ]
  },
  {
   "cell_type": "code",
   "execution_count": 7,
   "id": "8fb31b42",
   "metadata": {},
   "outputs": [],
   "source": [
    "# Import upper values prior for normalization\n",
    "norms = np.array([prior_bounds['Mf'][1],prior_bounds['af'][1],prior_bounds['A0'][1],prior_bounds['phi'][1]]).reshape(-1,1)"
   ]
  },
  {
   "cell_type": "code",
   "execution_count": 8,
   "id": "5c6a0fff",
   "metadata": {},
   "outputs": [
    {
     "ename": "NameError",
     "evalue": "name 'whitened_signal_file' is not defined",
     "output_type": "error",
     "traceback": [
      "\u001b[0;31m---------------------------------------------------------------------------\u001b[0m",
      "\u001b[0;31mNameError\u001b[0m                                 Traceback (most recent call last)",
      "Input \u001b[0;32mIn [8]\u001b[0m, in \u001b[0;36m<cell line: 2>\u001b[0;34m()\u001b[0m\n\u001b[1;32m      1\u001b[0m \u001b[38;5;66;03m# Import signals for the test\u001b[39;00m\n\u001b[0;32m----> 2\u001b[0m signals_whiten \u001b[38;5;241m=\u001b[39m torch\u001b[38;5;241m.\u001b[39mfrom_numpy(np\u001b[38;5;241m.\u001b[39mload(whitened_signal_path\u001b[38;5;241m+\u001b[39m\u001b[43mwhitened_signal_file\u001b[49m))\u001b[38;5;241m.\u001b[39mto(torch\u001b[38;5;241m.\u001b[39mfloat32)\n\u001b[1;32m      3\u001b[0m labels \u001b[38;5;241m=\u001b[39m np\u001b[38;5;241m.\u001b[39mload(prior_path\u001b[38;5;241m+\u001b[39mprior_file)\n",
      "\u001b[0;31mNameError\u001b[0m: name 'whitened_signal_file' is not defined"
     ]
    }
   ],
   "source": [
    "# Import signals for the test\n",
    "signals_whiten = torch.from_numpy(np.load(whitened_signal_path+whitened_signal_file)).to(torch.float32)\n",
    "labels = np.load(prior_path+prior_file)"
   ]
  },
  {
   "cell_type": "code",
   "execution_count": 9,
   "id": "cfc70c86",
   "metadata": {},
   "outputs": [
    {
     "ename": "NameError",
     "evalue": "name 'signals_whiten' is not defined",
     "output_type": "error",
     "traceback": [
      "\u001b[0;31m---------------------------------------------------------------------------\u001b[0m",
      "\u001b[0;31mNameError\u001b[0m                                 Traceback (most recent call last)",
      "Input \u001b[0;32mIn [9]\u001b[0m, in \u001b[0;36m<cell line: 3>\u001b[0;34m()\u001b[0m\n\u001b[1;32m      1\u001b[0m \u001b[38;5;66;03m# Standardize data as in training set \u001b[39;00m\n\u001b[1;32m      2\u001b[0m \u001b[38;5;66;03m# standardize\u001b[39;00m\n\u001b[0;32m----> 3\u001b[0m signals_whiten_normalized \u001b[38;5;241m=\u001b[39m (\u001b[43msignals_whiten\u001b[49m\u001b[38;5;241m-\u001b[39msignals_whiten\u001b[38;5;241m.\u001b[39mmean(dim\u001b[38;5;241m=\u001b[39m\u001b[38;5;241m1\u001b[39m)\u001b[38;5;241m.\u001b[39mreshape(\u001b[38;5;241m-\u001b[39m\u001b[38;5;241m1\u001b[39m,\u001b[38;5;241m1\u001b[39m))\u001b[38;5;241m/\u001b[39msignals_whiten\u001b[38;5;241m.\u001b[39mstd(dim\u001b[38;5;241m=\u001b[39m\u001b[38;5;241m1\u001b[39m)\u001b[38;5;241m.\u001b[39mreshape(\u001b[38;5;241m-\u001b[39m\u001b[38;5;241m1\u001b[39m,\u001b[38;5;241m1\u001b[39m)\n\u001b[1;32m      4\u001b[0m ntrain \u001b[38;5;241m=\u001b[39m \u001b[38;5;28mint\u001b[39m(\u001b[38;5;241m1e5\u001b[39m)\n\u001b[1;32m      5\u001b[0m signals_whiten_normalized \u001b[38;5;241m=\u001b[39m (signals_whiten_normalized\u001b[38;5;241m-\u001b[39msignals_whiten_normalized[:ntrain]\u001b[38;5;241m.\u001b[39mmean(dim\u001b[38;5;241m=\u001b[39m\u001b[38;5;241m0\u001b[39m))\u001b[38;5;241m/\u001b[39msignals_whiten_normalized[:ntrain]\u001b[38;5;241m.\u001b[39mstd(dim\u001b[38;5;241m=\u001b[39m\u001b[38;5;241m0\u001b[39m)\n",
      "\u001b[0;31mNameError\u001b[0m: name 'signals_whiten' is not defined"
     ]
    }
   ],
   "source": [
    "# Standardize data as in training set \n",
    "# standardize\n",
    "signals_whiten_normalized = (signals_whiten-signals_whiten.mean(dim=1).reshape(-1,1))/signals_whiten.std(dim=1).reshape(-1,1)\n",
    "ntrain = int(1e5)\n",
    "signals_whiten_normalized = (signals_whiten_normalized-signals_whiten_normalized[:ntrain].mean(dim=0))/signals_whiten_normalized[:ntrain].std(dim=0)"
   ]
  },
  {
   "cell_type": "code",
   "execution_count": 152,
   "id": "bc474850",
   "metadata": {},
   "outputs": [],
   "source": [
    "# Generate samples on test set\n",
    "\n",
    "\n",
    "## Numer of examples in test set\n",
    "N_test_set = 100\n",
    "\n",
    "# test_set = signals_whiten_normalized[-N_test_set:]\n",
    "# test_labels = labels[-N_test_set:]\n",
    "\n",
    "test_set = signals_whiten_normalized[:N_test_set]\n",
    "test_labels = labels[:N_test_set]"
   ]
  },
  {
   "cell_type": "markdown",
   "id": "dbae3f30",
   "metadata": {},
   "source": [
    "## Single case"
   ]
  },
  {
   "cell_type": "code",
   "execution_count": 176,
   "id": "1c591558",
   "metadata": {},
   "outputs": [
    {
     "data": {
      "application/vnd.jupyter.widget-view+json": {
       "model_id": "e78c2061bb8445e19aa5380038c63c9a",
       "version_major": 2,
       "version_minor": 0
      },
      "text/plain": [
       "Drawing 10000 posterior samples:   0%|          | 0/10000 [00:00<?, ?it/s]"
      ]
     },
     "metadata": {},
     "output_type": "display_data"
    }
   ],
   "source": [
    "# Select event in the test set for computing the posterior distribution\n",
    "i = 30\n",
    "samples = posterior_generator.sample((int(1e4),),x=test_set[i])\n",
    "# Undo normalization of the parameters\n",
    "samples = np.array(samples)*norms.T"
   ]
  },
  {
   "cell_type": "code",
   "execution_count": 177,
   "id": "646c72f1",
   "metadata": {},
   "outputs": [
    {
     "data": {
      "image/png": "[encoded data removed]",
      "text/plain": [
       "<Figure size 698.4x698.4 with 16 Axes>"
      ]
     },
     "metadata": {
      "needs_background": "light"
     },
     "output_type": "display_data"
    }
   ],
   "source": [
    "fig = corner.corner(\n",
    "    samples,\n",
    "    labels=['Mf','af','A0','phi'],\n",
    "    quantiles=[0.16, 0.5, 0.84],\n",
    "    show_titles=True,\n",
    "    title_kwargs={\"fontsize\": 12},\n",
    "    truths=test_labels[i],\n",
    "    truth_color='red'\n",
    ")"
   ]
  },
  {
   "cell_type": "markdown",
   "id": "a9c1c48e",
   "metadata": {},
   "source": [
    "## p-p plot"
   ]
  },
  {
   "cell_type": "code",
   "execution_count": 47,
   "id": "31b7e06d",
   "metadata": {},
   "outputs": [],
   "source": [
    "import bilby"
   ]
  },
  {
   "cell_type": "code",
   "execution_count": 143,
   "id": "8dcdb060",
   "metadata": {
    "scrolled": false
   },
   "outputs": [
    {
     "data": {
      "application/vnd.jupyter.widget-view+json": {
       "model_id": "b7dfedfb950a438a9bfa3036801d2571",
       "version_major": 2,
       "version_minor": 0
      },
      "text/plain": [
       "Drawing 1000 posterior samples:   0%|          | 0/1000 [00:00<?, ?it/s]"
      ]
     },
     "metadata": {},
     "output_type": "display_data"
    },
    {
     "data": {
      "application/vnd.jupyter.widget-view+json": {
       "model_id": "9e44d3e0ad44466d9c2a52f63bd0019e",
       "version_major": 2,
       "version_minor": 0
      },
      "text/plain": [
       "Drawing 1000 posterior samples:   0%|          | 0/1000 [00:00<?, ?it/s]"
      ]
     },
     "metadata": {},
     "output_type": "display_data"
    },
    {
     "data": {
      "application/vnd.jupyter.widget-view+json": {
       "model_id": "fa7f7eca0515484796fae92cde7c3403",
       "version_major": 2,
       "version_minor": 0
      },
      "text/plain": [
       "Drawing 1000 posterior samples:   0%|          | 0/1000 [00:00<?, ?it/s]"
      ]
     },
     "metadata": {},
     "output_type": "display_data"
    },
    {
     "data": {
      "application/vnd.jupyter.widget-view+json": {
       "model_id": "c454d90834de4e04add4226d699da381",
       "version_major": 2,
       "version_minor": 0
      },
      "text/plain": [
       "Drawing 1000 posterior samples:   0%|          | 0/1000 [00:00<?, ?it/s]"
      ]
     },
     "metadata": {},
     "output_type": "display_data"
    },
    {
     "data": {
      "application/vnd.jupyter.widget-view+json": {
       "model_id": "6cb1ebf43bd8453cb4ebfb3c005ba644",
       "version_major": 2,
       "version_minor": 0
      },
      "text/plain": [
       "Drawing 1000 posterior samples:   0%|          | 0/1000 [00:00<?, ?it/s]"
      ]
     },
     "metadata": {},
     "output_type": "display_data"
    },
    {
     "data": {
      "application/vnd.jupyter.widget-view+json": {
       "model_id": "4afd24f2b98d4345bf5896b9bbb69e8b",
       "version_major": 2,
       "version_minor": 0
      },
      "text/plain": [
       "Drawing 1000 posterior samples:   0%|          | 0/1000 [00:00<?, ?it/s]"
      ]
     },
     "metadata": {},
     "output_type": "display_data"
    },
    {
     "data": {
      "application/vnd.jupyter.widget-view+json": {
       "model_id": "7188acf1252040bda5bea358babb2eb9",
       "version_major": 2,
       "version_minor": 0
      },
      "text/plain": [
       "Drawing 1000 posterior samples:   0%|          | 0/1000 [00:00<?, ?it/s]"
      ]
     },
     "metadata": {},
     "output_type": "display_data"
    },
    {
     "data": {
      "application/vnd.jupyter.widget-view+json": {
       "model_id": "fb5c8ea886ed46e1b27d40b0993a4430",
       "version_major": 2,
       "version_minor": 0
      },
      "text/plain": [
       "Drawing 1000 posterior samples:   0%|          | 0/1000 [00:00<?, ?it/s]"
      ]
     },
     "metadata": {},
     "output_type": "display_data"
    },
    {
     "data": {
      "application/vnd.jupyter.widget-view+json": {
       "model_id": "0ff179bab9f144308b8ca26a5cf39b5e",
       "version_major": 2,
       "version_minor": 0
      },
      "text/plain": [
       "Drawing 1000 posterior samples:   0%|          | 0/1000 [00:00<?, ?it/s]"
      ]
     },
     "metadata": {},
     "output_type": "display_data"
    },
    {
     "data": {
      "application/vnd.jupyter.widget-view+json": {
       "model_id": "ece04f2ba14a4dc381b23ced236920d9",
       "version_major": 2,
       "version_minor": 0
      },
      "text/plain": [
       "Drawing 1000 posterior samples:   0%|          | 0/1000 [00:00<?, ?it/s]"
      ]
     },
     "metadata": {},
     "output_type": "display_data"
    },
    {
     "data": {
      "application/vnd.jupyter.widget-view+json": {
       "model_id": "20e94ece543148d89c9fcafc79655cee",
       "version_major": 2,
       "version_minor": 0
      },
      "text/plain": [
       "Drawing 1000 posterior samples:   0%|          | 0/1000 [00:00<?, ?it/s]"
      ]
     },
     "metadata": {},
     "output_type": "display_data"
    },
    {
     "data": {
      "application/vnd.jupyter.widget-view+json": {
       "model_id": "2961fba9dec2460f892bef702431b54f",
       "version_major": 2,
       "version_minor": 0
      },
      "text/plain": [
       "Drawing 1000 posterior samples:   0%|          | 0/1000 [00:00<?, ?it/s]"
      ]
     },
     "metadata": {},
     "output_type": "display_data"
    },
    {
     "data": {
      "application/vnd.jupyter.widget-view+json": {
       "model_id": "c1e633abfa4f45cd815939225a829eaf",
       "version_major": 2,
       "version_minor": 0
      },
      "text/plain": [
       "Drawing 1000 posterior samples:   0%|          | 0/1000 [00:00<?, ?it/s]"
      ]
     },
     "metadata": {},
     "output_type": "display_data"
    },
    {
     "data": {
      "application/vnd.jupyter.widget-view+json": {
       "model_id": "90d03359582a4cc6ad468bbdc9aff0fd",
       "version_major": 2,
       "version_minor": 0
      },
      "text/plain": [
       "Drawing 1000 posterior samples:   0%|          | 0/1000 [00:00<?, ?it/s]"
      ]
     },
     "metadata": {},
     "output_type": "display_data"
    },
    {
     "data": {
      "application/vnd.jupyter.widget-view+json": {
       "model_id": "59f744f7824f4388a88d0d69992e9cb5",
       "version_major": 2,
       "version_minor": 0
      },
      "text/plain": [
       "Drawing 1000 posterior samples:   0%|          | 0/1000 [00:00<?, ?it/s]"
      ]
     },
     "metadata": {},
     "output_type": "display_data"
    },
    {
     "data": {
      "application/vnd.jupyter.widget-view+json": {
       "model_id": "6ed791631cb548baa473d6b4e19e1a4a",
       "version_major": 2,
       "version_minor": 0
      },
      "text/plain": [
       "Drawing 1000 posterior samples:   0%|          | 0/1000 [00:00<?, ?it/s]"
      ]
     },
     "metadata": {},
     "output_type": "display_data"
    },
    {
     "data": {
      "application/vnd.jupyter.widget-view+json": {
       "model_id": "e488a1733d82479897f6f012f00d2e15",
       "version_major": 2,
       "version_minor": 0
      },
      "text/plain": [
       "Drawing 1000 posterior samples:   0%|          | 0/1000 [00:00<?, ?it/s]"
      ]
     },
     "metadata": {},
     "output_type": "display_data"
    },
    {
     "data": {
      "application/vnd.jupyter.widget-view+json": {
       "model_id": "c60f6501821642f9a1f2849443156b30",
       "version_major": 2,
       "version_minor": 0
      },
      "text/plain": [
       "Drawing 1000 posterior samples:   0%|          | 0/1000 [00:00<?, ?it/s]"
      ]
     },
     "metadata": {},
     "output_type": "display_data"
    },
    {
     "data": {
      "application/vnd.jupyter.widget-view+json": {
       "model_id": "c914bebdc1b644db899a258c6ec87be1",
       "version_major": 2,
       "version_minor": 0
      },
      "text/plain": [
       "Drawing 1000 posterior samples:   0%|          | 0/1000 [00:00<?, ?it/s]"
      ]
     },
     "metadata": {},
     "output_type": "display_data"
    },
    {
     "data": {
      "application/vnd.jupyter.widget-view+json": {
       "model_id": "a78cf8bfa2e740c690b0340c2266310d",
       "version_major": 2,
       "version_minor": 0
      },
      "text/plain": [
       "Drawing 1000 posterior samples:   0%|          | 0/1000 [00:00<?, ?it/s]"
      ]
     },
     "metadata": {},
     "output_type": "display_data"
    },
    {
     "data": {
      "application/vnd.jupyter.widget-view+json": {
       "model_id": "effe3e3c2f36402b813065356b4b63fc",
       "version_major": 2,
       "version_minor": 0
      },
      "text/plain": [
       "Drawing 1000 posterior samples:   0%|          | 0/1000 [00:00<?, ?it/s]"
      ]
     },
     "metadata": {},
     "output_type": "display_data"
    },
    {
     "data": {
      "application/vnd.jupyter.widget-view+json": {
       "model_id": "53bfb78e1f1247989adfbff7dad54c98",
       "version_major": 2,
       "version_minor": 0
      },
      "text/plain": [
       "Drawing 1000 posterior samples:   0%|          | 0/1000 [00:00<?, ?it/s]"
      ]
     },
     "metadata": {},
     "output_type": "display_data"
    },
    {
     "data": {
      "application/vnd.jupyter.widget-view+json": {
       "model_id": "36e725ea067447c5a1e1227fcfc8df08",
       "version_major": 2,
       "version_minor": 0
      },
      "text/plain": [
       "Drawing 1000 posterior samples:   0%|          | 0/1000 [00:00<?, ?it/s]"
      ]
     },
     "metadata": {},
     "output_type": "display_data"
    },
    {
     "data": {
      "application/vnd.jupyter.widget-view+json": {
       "model_id": "b5ece65512db439683f704d201c7ed7a",
       "version_major": 2,
       "version_minor": 0
      },
      "text/plain": [
       "Drawing 1000 posterior samples:   0%|          | 0/1000 [00:00<?, ?it/s]"
      ]
     },
     "metadata": {},
     "output_type": "display_data"
    },
    {
     "data": {
      "application/vnd.jupyter.widget-view+json": {
       "model_id": "0510642b761c469bb72342b1fec52e67",
       "version_major": 2,
       "version_minor": 0
      },
      "text/plain": [
       "Drawing 1000 posterior samples:   0%|          | 0/1000 [00:00<?, ?it/s]"
      ]
     },
     "metadata": {},
     "output_type": "display_data"
    },
    {
     "data": {
      "application/vnd.jupyter.widget-view+json": {
       "model_id": "e6aebbc164e24ff8a4a89d3ba6bb5302",
       "version_major": 2,
       "version_minor": 0
      },
      "text/plain": [
       "Drawing 1000 posterior samples:   0%|          | 0/1000 [00:00<?, ?it/s]"
      ]
     },
     "metadata": {},
     "output_type": "display_data"
    },
    {
     "data": {
      "application/vnd.jupyter.widget-view+json": {
       "model_id": "7cb83e7fab564917a82800b774144617",
       "version_major": 2,
       "version_minor": 0
      },
      "text/plain": [
       "Drawing 1000 posterior samples:   0%|          | 0/1000 [00:00<?, ?it/s]"
      ]
     },
     "metadata": {},
     "output_type": "display_data"
    },
    {
     "data": {
      "application/vnd.jupyter.widget-view+json": {
       "model_id": "5a06cbd436f44c6183134576436a1154",
       "version_major": 2,
       "version_minor": 0
      },
      "text/plain": [
       "Drawing 1000 posterior samples:   0%|          | 0/1000 [00:00<?, ?it/s]"
      ]
     },
     "metadata": {},
     "output_type": "display_data"
    },
    {
     "data": {
      "application/vnd.jupyter.widget-view+json": {
       "model_id": "59e8eb256e0a4e2587ee611c468998f6",
       "version_major": 2,
       "version_minor": 0
      },
      "text/plain": [
       "Drawing 1000 posterior samples:   0%|          | 0/1000 [00:00<?, ?it/s]"
      ]
     },
     "metadata": {},
     "output_type": "display_data"
    },
    {
     "data": {
      "application/vnd.jupyter.widget-view+json": {
       "model_id": "eb55649b82e949838f028b11a8fb523e",
       "version_major": 2,
       "version_minor": 0
      },
      "text/plain": [
       "Drawing 1000 posterior samples:   0%|          | 0/1000 [00:00<?, ?it/s]"
      ]
     },
     "metadata": {},
     "output_type": "display_data"
    },
    {
     "data": {
      "application/vnd.jupyter.widget-view+json": {
       "model_id": "b37f5a2eb570449ca3899cf910afdb4e",
       "version_major": 2,
       "version_minor": 0
      },
      "text/plain": [
       "Drawing 1000 posterior samples:   0%|          | 0/1000 [00:00<?, ?it/s]"
      ]
     },
     "metadata": {},
     "output_type": "display_data"
    },
    {
     "data": {
      "application/vnd.jupyter.widget-view+json": {
       "model_id": "04ac0465f1584bd3bd2de60d2f915f7a",
       "version_major": 2,
       "version_minor": 0
      },
      "text/plain": [
       "Drawing 1000 posterior samples:   0%|          | 0/1000 [00:00<?, ?it/s]"
      ]
     },
     "metadata": {},
     "output_type": "display_data"
    },
    {
     "data": {
      "application/vnd.jupyter.widget-view+json": {
       "model_id": "639267e1f42f4a77ba38cd38c282b5d3",
       "version_major": 2,
       "version_minor": 0
      },
      "text/plain": [
       "Drawing 1000 posterior samples:   0%|          | 0/1000 [00:00<?, ?it/s]"
      ]
     },
     "metadata": {},
     "output_type": "display_data"
    },
    {
     "data": {
      "application/vnd.jupyter.widget-view+json": {
       "model_id": "2ed31577802a48d8b50a67891d22eb4d",
       "version_major": 2,
       "version_minor": 0
      },
      "text/plain": [
       "Drawing 1000 posterior samples:   0%|          | 0/1000 [00:00<?, ?it/s]"
      ]
     },
     "metadata": {},
     "output_type": "display_data"
    },
    {
     "data": {
      "application/vnd.jupyter.widget-view+json": {
       "model_id": "3a0c1e8c011b4c0bb5701742a16853d1",
       "version_major": 2,
       "version_minor": 0
      },
      "text/plain": [
       "Drawing 1000 posterior samples:   0%|          | 0/1000 [00:00<?, ?it/s]"
      ]
     },
     "metadata": {},
     "output_type": "display_data"
    },
    {
     "data": {
      "application/vnd.jupyter.widget-view+json": {
       "model_id": "f2274ff7bb004219b48611bd81213849",
       "version_major": 2,
       "version_minor": 0
      },
      "text/plain": [
       "Drawing 1000 posterior samples:   0%|          | 0/1000 [00:00<?, ?it/s]"
      ]
     },
     "metadata": {},
     "output_type": "display_data"
    },
    {
     "data": {
      "application/vnd.jupyter.widget-view+json": {
       "model_id": "8c6d47aba1a342b385751a0b85c00452",
       "version_major": 2,
       "version_minor": 0
      },
      "text/plain": [
       "Drawing 1000 posterior samples:   0%|          | 0/1000 [00:00<?, ?it/s]"
      ]
     },
     "metadata": {},
     "output_type": "display_data"
    },
    {
     "data": {
      "application/vnd.jupyter.widget-view+json": {
       "model_id": "1fd6ef2edd634e029e134fb474847cf4",
       "version_major": 2,
       "version_minor": 0
      },
      "text/plain": [
       "Drawing 1000 posterior samples:   0%|          | 0/1000 [00:00<?, ?it/s]"
      ]
     },
     "metadata": {},
     "output_type": "display_data"
    },
    {
     "data": {
      "application/vnd.jupyter.widget-view+json": {
       "model_id": "26f26fb71c6e4e059e62ad0ad9b0ac3b",
       "version_major": 2,
       "version_minor": 0
      },
      "text/plain": [
       "Drawing 1000 posterior samples:   0%|          | 0/1000 [00:00<?, ?it/s]"
      ]
     },
     "metadata": {},
     "output_type": "display_data"
    },
    {
     "data": {
      "application/vnd.jupyter.widget-view+json": {
       "model_id": "2f6545df680b4ea396992ee546e3ba94",
       "version_major": 2,
       "version_minor": 0
      },
      "text/plain": [
       "Drawing 1000 posterior samples:   0%|          | 0/1000 [00:00<?, ?it/s]"
      ]
     },
     "metadata": {},
     "output_type": "display_data"
    },
    {
     "data": {
      "application/vnd.jupyter.widget-view+json": {
       "model_id": "f6115b875b3d43bcaa7a55a3fa4ece49",
       "version_major": 2,
       "version_minor": 0
      },
      "text/plain": [
       "Drawing 1000 posterior samples:   0%|          | 0/1000 [00:00<?, ?it/s]"
      ]
     },
     "metadata": {},
     "output_type": "display_data"
    },
    {
     "data": {
      "application/vnd.jupyter.widget-view+json": {
       "model_id": "c7a66302c06a4e25a33cb1ec1b2c96be",
       "version_major": 2,
       "version_minor": 0
      },
      "text/plain": [
       "Drawing 1000 posterior samples:   0%|          | 0/1000 [00:00<?, ?it/s]"
      ]
     },
     "metadata": {},
     "output_type": "display_data"
    },
    {
     "data": {
      "application/vnd.jupyter.widget-view+json": {
       "model_id": "ca4dcb94816e4bfdb10e2a97ed5fd003",
       "version_major": 2,
       "version_minor": 0
      },
      "text/plain": [
       "Drawing 1000 posterior samples:   0%|          | 0/1000 [00:00<?, ?it/s]"
      ]
     },
     "metadata": {},
     "output_type": "display_data"
    },
    {
     "data": {
      "application/vnd.jupyter.widget-view+json": {
       "model_id": "e034d8f11d774570ab7fccfb1278eaa5",
       "version_major": 2,
       "version_minor": 0
      },
      "text/plain": [
       "Drawing 1000 posterior samples:   0%|          | 0/1000 [00:00<?, ?it/s]"
      ]
     },
     "metadata": {},
     "output_type": "display_data"
    },
    {
     "data": {
      "application/vnd.jupyter.widget-view+json": {
       "model_id": "52c0099a6f484e59beaeb86910f83d5c",
       "version_major": 2,
       "version_minor": 0
      },
      "text/plain": [
       "Drawing 1000 posterior samples:   0%|          | 0/1000 [00:00<?, ?it/s]"
      ]
     },
     "metadata": {},
     "output_type": "display_data"
    },
    {
     "data": {
      "application/vnd.jupyter.widget-view+json": {
       "model_id": "a312b147579e4c059c781682b66ab29b",
       "version_major": 2,
       "version_minor": 0
      },
      "text/plain": [
       "Drawing 1000 posterior samples:   0%|          | 0/1000 [00:00<?, ?it/s]"
      ]
     },
     "metadata": {},
     "output_type": "display_data"
    },
    {
     "data": {
      "application/vnd.jupyter.widget-view+json": {
       "model_id": "6ffc46f417f142f197300bbfcd102580",
       "version_major": 2,
       "version_minor": 0
      },
      "text/plain": [
       "Drawing 1000 posterior samples:   0%|          | 0/1000 [00:00<?, ?it/s]"
      ]
     },
     "metadata": {},
     "output_type": "display_data"
    },
    {
     "data": {
      "application/vnd.jupyter.widget-view+json": {
       "model_id": "e4b5f2c1697247b581a433d569d6ca23",
       "version_major": 2,
       "version_minor": 0
      },
      "text/plain": [
       "Drawing 1000 posterior samples:   0%|          | 0/1000 [00:00<?, ?it/s]"
      ]
     },
     "metadata": {},
     "output_type": "display_data"
    },
    {
     "data": {
      "application/vnd.jupyter.widget-view+json": {
       "model_id": "732d816da2484172ac80b41c16c22f2e",
       "version_major": 2,
       "version_minor": 0
      },
      "text/plain": [
       "Drawing 1000 posterior samples:   0%|          | 0/1000 [00:00<?, ?it/s]"
      ]
     },
     "metadata": {},
     "output_type": "display_data"
    },
    {
     "data": {
      "application/vnd.jupyter.widget-view+json": {
       "model_id": "4e4b2d75c84844f0ab8e7f53de47afe8",
       "version_major": 2,
       "version_minor": 0
      },
      "text/plain": [
       "Drawing 1000 posterior samples:   0%|          | 0/1000 [00:00<?, ?it/s]"
      ]
     },
     "metadata": {},
     "output_type": "display_data"
    },
    {
     "data": {
      "application/vnd.jupyter.widget-view+json": {
       "model_id": "8c2d7a446c364a499cf5d35d4e50373a",
       "version_major": 2,
       "version_minor": 0
      },
      "text/plain": [
       "Drawing 1000 posterior samples:   0%|          | 0/1000 [00:00<?, ?it/s]"
      ]
     },
     "metadata": {},
     "output_type": "display_data"
    },
    {
     "data": {
      "application/vnd.jupyter.widget-view+json": {
       "model_id": "2e14b6f15720452681d00b52007328a0",
       "version_major": 2,
       "version_minor": 0
      },
      "text/plain": [
       "Drawing 1000 posterior samples:   0%|          | 0/1000 [00:00<?, ?it/s]"
      ]
     },
     "metadata": {},
     "output_type": "display_data"
    },
    {
     "data": {
      "application/vnd.jupyter.widget-view+json": {
       "model_id": "6e2d2fe8996949ef9380e6870cdc07df",
       "version_major": 2,
       "version_minor": 0
      },
      "text/plain": [
       "Drawing 1000 posterior samples:   0%|          | 0/1000 [00:00<?, ?it/s]"
      ]
     },
     "metadata": {},
     "output_type": "display_data"
    },
    {
     "data": {
      "application/vnd.jupyter.widget-view+json": {
       "model_id": "8ce8e802371949ad90ce664373f70a23",
       "version_major": 2,
       "version_minor": 0
      },
      "text/plain": [
       "Drawing 1000 posterior samples:   0%|          | 0/1000 [00:00<?, ?it/s]"
      ]
     },
     "metadata": {},
     "output_type": "display_data"
    },
    {
     "data": {
      "application/vnd.jupyter.widget-view+json": {
       "model_id": "6b94ac3228164872832f6165957797e4",
       "version_major": 2,
       "version_minor": 0
      },
      "text/plain": [
       "Drawing 1000 posterior samples:   0%|          | 0/1000 [00:00<?, ?it/s]"
      ]
     },
     "metadata": {},
     "output_type": "display_data"
    },
    {
     "data": {
      "application/vnd.jupyter.widget-view+json": {
       "model_id": "3ec3d2fbe5a84d19a5375eb7120907cb",
       "version_major": 2,
       "version_minor": 0
      },
      "text/plain": [
       "Drawing 1000 posterior samples:   0%|          | 0/1000 [00:00<?, ?it/s]"
      ]
     },
     "metadata": {},
     "output_type": "display_data"
    },
    {
     "data": {
      "application/vnd.jupyter.widget-view+json": {
       "model_id": "30b2eed7a83a4ca9a7f797d67a012321",
       "version_major": 2,
       "version_minor": 0
      },
      "text/plain": [
       "Drawing 1000 posterior samples:   0%|          | 0/1000 [00:00<?, ?it/s]"
      ]
     },
     "metadata": {},
     "output_type": "display_data"
    },
    {
     "data": {
      "application/vnd.jupyter.widget-view+json": {
       "model_id": "45544f3d83ef44b4ba3e7d58e0daa94e",
       "version_major": 2,
       "version_minor": 0
      },
      "text/plain": [
       "Drawing 1000 posterior samples:   0%|          | 0/1000 [00:00<?, ?it/s]"
      ]
     },
     "metadata": {},
     "output_type": "display_data"
    },
    {
     "data": {
      "application/vnd.jupyter.widget-view+json": {
       "model_id": "4a5129635b454e418b29228f02c8838f",
       "version_major": 2,
       "version_minor": 0
      },
      "text/plain": [
       "Drawing 1000 posterior samples:   0%|          | 0/1000 [00:00<?, ?it/s]"
      ]
     },
     "metadata": {},
     "output_type": "display_data"
    },
    {
     "data": {
      "application/vnd.jupyter.widget-view+json": {
       "model_id": "8d644f1d95274bfcb66c37378f913d6a",
       "version_major": 2,
       "version_minor": 0
      },
      "text/plain": [
       "Drawing 1000 posterior samples:   0%|          | 0/1000 [00:00<?, ?it/s]"
      ]
     },
     "metadata": {},
     "output_type": "display_data"
    },
    {
     "data": {
      "application/vnd.jupyter.widget-view+json": {
       "model_id": "32ba5fa7dfaa4f869cf619859556f249",
       "version_major": 2,
       "version_minor": 0
      },
      "text/plain": [
       "Drawing 1000 posterior samples:   0%|          | 0/1000 [00:00<?, ?it/s]"
      ]
     },
     "metadata": {},
     "output_type": "display_data"
    },
    {
     "data": {
      "application/vnd.jupyter.widget-view+json": {
       "model_id": "36d399c1ffd144b99eed25dd01aee86b",
       "version_major": 2,
       "version_minor": 0
      },
      "text/plain": [
       "Drawing 1000 posterior samples:   0%|          | 0/1000 [00:00<?, ?it/s]"
      ]
     },
     "metadata": {},
     "output_type": "display_data"
    },
    {
     "data": {
      "application/vnd.jupyter.widget-view+json": {
       "model_id": "4094c6b86c3f4cd795723435c7ac2b98",
       "version_major": 2,
       "version_minor": 0
      },
      "text/plain": [
       "Drawing 1000 posterior samples:   0%|          | 0/1000 [00:00<?, ?it/s]"
      ]
     },
     "metadata": {},
     "output_type": "display_data"
    },
    {
     "data": {
      "application/vnd.jupyter.widget-view+json": {
       "model_id": "7982244ce74d4e62aed7d7b72965d6cc",
       "version_major": 2,
       "version_minor": 0
      },
      "text/plain": [
       "Drawing 1000 posterior samples:   0%|          | 0/1000 [00:00<?, ?it/s]"
      ]
     },
     "metadata": {},
     "output_type": "display_data"
    },
    {
     "data": {
      "application/vnd.jupyter.widget-view+json": {
       "model_id": "6e54628f10e64066b8595b7a46386f75",
       "version_major": 2,
       "version_minor": 0
      },
      "text/plain": [
       "Drawing 1000 posterior samples:   0%|          | 0/1000 [00:00<?, ?it/s]"
      ]
     },
     "metadata": {},
     "output_type": "display_data"
    },
    {
     "data": {
      "application/vnd.jupyter.widget-view+json": {
       "model_id": "249a0625217d4822b00f343c63c559ca",
       "version_major": 2,
       "version_minor": 0
      },
      "text/plain": [
       "Drawing 1000 posterior samples:   0%|          | 0/1000 [00:00<?, ?it/s]"
      ]
     },
     "metadata": {},
     "output_type": "display_data"
    },
    {
     "data": {
      "application/vnd.jupyter.widget-view+json": {
       "model_id": "880bc3144dd846e98d6df65ef3351b08",
       "version_major": 2,
       "version_minor": 0
      },
      "text/plain": [
       "Drawing 1000 posterior samples:   0%|          | 0/1000 [00:00<?, ?it/s]"
      ]
     },
     "metadata": {},
     "output_type": "display_data"
    },
    {
     "data": {
      "application/vnd.jupyter.widget-view+json": {
       "model_id": "63d0342f772f45a8bee9fcf6938d1c3c",
       "version_major": 2,
       "version_minor": 0
      },
      "text/plain": [
       "Drawing 1000 posterior samples:   0%|          | 0/1000 [00:00<?, ?it/s]"
      ]
     },
     "metadata": {},
     "output_type": "display_data"
    },
    {
     "data": {
      "application/vnd.jupyter.widget-view+json": {
       "model_id": "64ae6fe795594b4d95e4c25f560728e8",
       "version_major": 2,
       "version_minor": 0
      },
      "text/plain": [
       "Drawing 1000 posterior samples:   0%|          | 0/1000 [00:00<?, ?it/s]"
      ]
     },
     "metadata": {},
     "output_type": "display_data"
    },
    {
     "data": {
      "application/vnd.jupyter.widget-view+json": {
       "model_id": "3e1cc93bda3641e0a414f0d2954efb03",
       "version_major": 2,
       "version_minor": 0
      },
      "text/plain": [
       "Drawing 1000 posterior samples:   0%|          | 0/1000 [00:00<?, ?it/s]"
      ]
     },
     "metadata": {},
     "output_type": "display_data"
    },
    {
     "data": {
      "application/vnd.jupyter.widget-view+json": {
       "model_id": "1a98cd5954914463a3ead4b2b6065238",
       "version_major": 2,
       "version_minor": 0
      },
      "text/plain": [
       "Drawing 1000 posterior samples:   0%|          | 0/1000 [00:00<?, ?it/s]"
      ]
     },
     "metadata": {},
     "output_type": "display_data"
    },
    {
     "data": {
      "application/vnd.jupyter.widget-view+json": {
       "model_id": "d0b682f6664943e2a7c6112a35c54611",
       "version_major": 2,
       "version_minor": 0
      },
      "text/plain": [
       "Drawing 1000 posterior samples:   0%|          | 0/1000 [00:00<?, ?it/s]"
      ]
     },
     "metadata": {},
     "output_type": "display_data"
    },
    {
     "data": {
      "application/vnd.jupyter.widget-view+json": {
       "model_id": "5b752a5f1db440febf8e8fdf8bb6a9ee",
       "version_major": 2,
       "version_minor": 0
      },
      "text/plain": [
       "Drawing 1000 posterior samples:   0%|          | 0/1000 [00:00<?, ?it/s]"
      ]
     },
     "metadata": {},
     "output_type": "display_data"
    },
    {
     "data": {
      "application/vnd.jupyter.widget-view+json": {
       "model_id": "3acd3807847f485bb4f19dd77988902d",
       "version_major": 2,
       "version_minor": 0
      },
      "text/plain": [
       "Drawing 1000 posterior samples:   0%|          | 0/1000 [00:00<?, ?it/s]"
      ]
     },
     "metadata": {},
     "output_type": "display_data"
    },
    {
     "data": {
      "application/vnd.jupyter.widget-view+json": {
       "model_id": "f4e9519fef5f4f8d92c642387cdc571f",
       "version_major": 2,
       "version_minor": 0
      },
      "text/plain": [
       "Drawing 1000 posterior samples:   0%|          | 0/1000 [00:00<?, ?it/s]"
      ]
     },
     "metadata": {},
     "output_type": "display_data"
    },
    {
     "data": {
      "application/vnd.jupyter.widget-view+json": {
       "model_id": "40e9b27a242d4d049c9be18ec0544013",
       "version_major": 2,
       "version_minor": 0
      },
      "text/plain": [
       "Drawing 1000 posterior samples:   0%|          | 0/1000 [00:00<?, ?it/s]"
      ]
     },
     "metadata": {},
     "output_type": "display_data"
    },
    {
     "data": {
      "application/vnd.jupyter.widget-view+json": {
       "model_id": "2afe376be4a44079ad1be0a1cc0106ec",
       "version_major": 2,
       "version_minor": 0
      },
      "text/plain": [
       "Drawing 1000 posterior samples:   0%|          | 0/1000 [00:00<?, ?it/s]"
      ]
     },
     "metadata": {},
     "output_type": "display_data"
    },
    {
     "data": {
      "application/vnd.jupyter.widget-view+json": {
       "model_id": "5f674bf3f2d8480498a5edc459f4808a",
       "version_major": 2,
       "version_minor": 0
      },
      "text/plain": [
       "Drawing 1000 posterior samples:   0%|          | 0/1000 [00:00<?, ?it/s]"
      ]
     },
     "metadata": {},
     "output_type": "display_data"
    },
    {
     "data": {
      "application/vnd.jupyter.widget-view+json": {
       "model_id": "f01d99e55b4d4b6bb47fc7e60f27467b",
       "version_major": 2,
       "version_minor": 0
      },
      "text/plain": [
       "Drawing 1000 posterior samples:   0%|          | 0/1000 [00:00<?, ?it/s]"
      ]
     },
     "metadata": {},
     "output_type": "display_data"
    },
    {
     "data": {
      "application/vnd.jupyter.widget-view+json": {
       "model_id": "d410ed1f2d7b4196992aa13c2f4789dc",
       "version_major": 2,
       "version_minor": 0
      },
      "text/plain": [
       "Drawing 1000 posterior samples:   0%|          | 0/1000 [00:00<?, ?it/s]"
      ]
     },
     "metadata": {},
     "output_type": "display_data"
    },
    {
     "data": {
      "application/vnd.jupyter.widget-view+json": {
       "model_id": "bdde8c930c5c472caf42935691490397",
       "version_major": 2,
       "version_minor": 0
      },
      "text/plain": [
       "Drawing 1000 posterior samples:   0%|          | 0/1000 [00:00<?, ?it/s]"
      ]
     },
     "metadata": {},
     "output_type": "display_data"
    },
    {
     "data": {
      "application/vnd.jupyter.widget-view+json": {
       "model_id": "bd4f7189c27e426bbe41d569888fb2b3",
       "version_major": 2,
       "version_minor": 0
      },
      "text/plain": [
       "Drawing 1000 posterior samples:   0%|          | 0/1000 [00:00<?, ?it/s]"
      ]
     },
     "metadata": {},
     "output_type": "display_data"
    },
    {
     "data": {
      "application/vnd.jupyter.widget-view+json": {
       "model_id": "e1fdcb7531dc47618c6b2acce86095be",
       "version_major": 2,
       "version_minor": 0
      },
      "text/plain": [
       "Drawing 1000 posterior samples:   0%|          | 0/1000 [00:00<?, ?it/s]"
      ]
     },
     "metadata": {},
     "output_type": "display_data"
    },
    {
     "data": {
      "application/vnd.jupyter.widget-view+json": {
       "model_id": "ab6b499b59044f94a405c006ce0e804d",
       "version_major": 2,
       "version_minor": 0
      },
      "text/plain": [
       "Drawing 1000 posterior samples:   0%|          | 0/1000 [00:00<?, ?it/s]"
      ]
     },
     "metadata": {},
     "output_type": "display_data"
    },
    {
     "data": {
      "application/vnd.jupyter.widget-view+json": {
       "model_id": "04548bda5247443ca81d2c20cdb2a5a2",
       "version_major": 2,
       "version_minor": 0
      },
      "text/plain": [
       "Drawing 1000 posterior samples:   0%|          | 0/1000 [00:00<?, ?it/s]"
      ]
     },
     "metadata": {},
     "output_type": "display_data"
    },
    {
     "data": {
      "application/vnd.jupyter.widget-view+json": {
       "model_id": "e3495e42a0144389a8b1c2ff9c65f962",
       "version_major": 2,
       "version_minor": 0
      },
      "text/plain": [
       "Drawing 1000 posterior samples:   0%|          | 0/1000 [00:00<?, ?it/s]"
      ]
     },
     "metadata": {},
     "output_type": "display_data"
    },
    {
     "data": {
      "application/vnd.jupyter.widget-view+json": {
       "model_id": "943f845726ca48c283b13283484da893",
       "version_major": 2,
       "version_minor": 0
      },
      "text/plain": [
       "Drawing 1000 posterior samples:   0%|          | 0/1000 [00:00<?, ?it/s]"
      ]
     },
     "metadata": {},
     "output_type": "display_data"
    },
    {
     "data": {
      "application/vnd.jupyter.widget-view+json": {
       "model_id": "bd86c0bf2e8045d4ad69bd2410a2e887",
       "version_major": 2,
       "version_minor": 0
      },
      "text/plain": [
       "Drawing 1000 posterior samples:   0%|          | 0/1000 [00:00<?, ?it/s]"
      ]
     },
     "metadata": {},
     "output_type": "display_data"
    },
    {
     "data": {
      "application/vnd.jupyter.widget-view+json": {
       "model_id": "8ad0ef387476481cb20fc055223a7817",
       "version_major": 2,
       "version_minor": 0
      },
      "text/plain": [
       "Drawing 1000 posterior samples:   0%|          | 0/1000 [00:00<?, ?it/s]"
      ]
     },
     "metadata": {},
     "output_type": "display_data"
    },
    {
     "data": {
      "application/vnd.jupyter.widget-view+json": {
       "model_id": "37ed1f400df84982ba9f54b59a1886ab",
       "version_major": 2,
       "version_minor": 0
      },
      "text/plain": [
       "Drawing 1000 posterior samples:   0%|          | 0/1000 [00:00<?, ?it/s]"
      ]
     },
     "metadata": {},
     "output_type": "display_data"
    },
    {
     "data": {
      "application/vnd.jupyter.widget-view+json": {
       "model_id": "e7c4ca995a3f4e10865b22fc278a24f5",
       "version_major": 2,
       "version_minor": 0
      },
      "text/plain": [
       "Drawing 1000 posterior samples:   0%|          | 0/1000 [00:00<?, ?it/s]"
      ]
     },
     "metadata": {},
     "output_type": "display_data"
    },
    {
     "data": {
      "application/vnd.jupyter.widget-view+json": {
       "model_id": "8caed6d72f1d4a5b86a7a004d60c00fb",
       "version_major": 2,
       "version_minor": 0
      },
      "text/plain": [
       "Drawing 1000 posterior samples:   0%|          | 0/1000 [00:00<?, ?it/s]"
      ]
     },
     "metadata": {},
     "output_type": "display_data"
    },
    {
     "data": {
      "application/vnd.jupyter.widget-view+json": {
       "model_id": "3e61270495a54b3da0720291a524e46e",
       "version_major": 2,
       "version_minor": 0
      },
      "text/plain": [
       "Drawing 1000 posterior samples:   0%|          | 0/1000 [00:00<?, ?it/s]"
      ]
     },
     "metadata": {},
     "output_type": "display_data"
    },
    {
     "data": {
      "application/vnd.jupyter.widget-view+json": {
       "model_id": "e811945cbd454facad9f00b907262b30",
       "version_major": 2,
       "version_minor": 0
      },
      "text/plain": [
       "Drawing 1000 posterior samples:   0%|          | 0/1000 [00:00<?, ?it/s]"
      ]
     },
     "metadata": {},
     "output_type": "display_data"
    },
    {
     "data": {
      "application/vnd.jupyter.widget-view+json": {
       "model_id": "2d9c81588d5542b2ab14698a4bab1a74",
       "version_major": 2,
       "version_minor": 0
      },
      "text/plain": [
       "Drawing 1000 posterior samples:   0%|          | 0/1000 [00:00<?, ?it/s]"
      ]
     },
     "metadata": {},
     "output_type": "display_data"
    },
    {
     "data": {
      "application/vnd.jupyter.widget-view+json": {
       "model_id": "f0f4360567194b0996e11c8b60f0f6bf",
       "version_major": 2,
       "version_minor": 0
      },
      "text/plain": [
       "Drawing 1000 posterior samples:   0%|          | 0/1000 [00:00<?, ?it/s]"
      ]
     },
     "metadata": {},
     "output_type": "display_data"
    },
    {
     "data": {
      "application/vnd.jupyter.widget-view+json": {
       "model_id": "0e5874a1359342d0a1f7092d9b5f7c5a",
       "version_major": 2,
       "version_minor": 0
      },
      "text/plain": [
       "Drawing 1000 posterior samples:   0%|          | 0/1000 [00:00<?, ?it/s]"
      ]
     },
     "metadata": {},
     "output_type": "display_data"
    },
    {
     "data": {
      "application/vnd.jupyter.widget-view+json": {
       "model_id": "98daa493b64041368aee678ade1699e6",
       "version_major": 2,
       "version_minor": 0
      },
      "text/plain": [
       "Drawing 1000 posterior samples:   0%|          | 0/1000 [00:00<?, ?it/s]"
      ]
     },
     "metadata": {},
     "output_type": "display_data"
    },
    {
     "data": {
      "application/vnd.jupyter.widget-view+json": {
       "model_id": "6ff152eeae6b41738f3df2e9fcbe30b7",
       "version_major": 2,
       "version_minor": 0
      },
      "text/plain": [
       "Drawing 1000 posterior samples:   0%|          | 0/1000 [00:00<?, ?it/s]"
      ]
     },
     "metadata": {},
     "output_type": "display_data"
    },
    {
     "data": {
      "application/vnd.jupyter.widget-view+json": {
       "model_id": "a6880b06f3ef438eb0cead382ebf8ec0",
       "version_major": 2,
       "version_minor": 0
      },
      "text/plain": [
       "Drawing 1000 posterior samples:   0%|          | 0/1000 [00:00<?, ?it/s]"
      ]
     },
     "metadata": {},
     "output_type": "display_data"
    }
   ],
   "source": [
    "test_samples = []\n",
    "for i in test_set:\n",
    "    y = posterior_generator.sample((int(1e3),),x=i)\n",
    "    y = np.array(y).T\n",
    "    y = y*norms\n",
    "    test_samples.append(y)\n",
    "\n",
    "test_samples = np.array(test_samples)"
   ]
  },
  {
   "cell_type": "code",
   "execution_count": 146,
   "id": "0d373a61",
   "metadata": {},
   "outputs": [],
   "source": [
    "# Generate a prior dict to use Bilby, the range is not important, as it's not used by Bilby\n",
    "keys_posterior = [\"Mf\",\"af\",'A0']\n",
    "priors_Bilby = [bilby.core.prior.analytical.Uniform(*prior_bounds[key], name=key) for key in prior_bounds.keys()]\n",
    "priors_Bilby = bilby.core.prior.dict.PriorDict(dictionary=dict(zip(keys_posterior,priors_Bilby)))"
   ]
  },
  {
   "cell_type": "code",
   "execution_count": 148,
   "id": "cabb9ab3",
   "metadata": {
    "scrolled": false
   },
   "outputs": [
    {
     "name": "stderr",
     "output_type": "stream",
     "text": [
      "100%|██████████████████████████████████████████████████████████████████████████| 100/100 [00:00<00:00, 3428.20it/s]\n",
      "19:49 bilby INFO    : Key: KS-test p-value\n",
      "19:49 bilby INFO    : Mf: 0.4712020446047783\n",
      "19:49 bilby INFO    : af: 0.02379018116498932\n",
      "19:49 bilby INFO    : A0: 0.9063568398670334\n",
      "19:49 bilby INFO    : Combined p-value: 0.16378298288129653\n"
     ]
    },
    {
     "data": {
      "text/plain": [
       "(<Figure size 432x288 with 1 Axes>,\n",
       " pvals(combined_pvalue=0.16378298288129653, pvalues=[0.4712020446047783, 0.02379018116498932, 0.9063568398670334], names=['Mf', 'af', 'A0']))"
      ]
     },
     "execution_count": 148,
     "metadata": {},
     "output_type": "execute_result"
    },
    {
     "data": {
      "image/png": "[encoded data removed]",
      "text/plain": [
       "<Figure size 432x288 with 1 Axes>"
      ]
     },
     "metadata": {
      "needs_background": "light"
     },
     "output_type": "display_data"
    }
   ],
   "source": [
    "# Convert the posteriors in Bilby format and generate p-p plot using Bilby\n",
    "results = []\n",
    "for ii in tqdm(range(N_test_set)):\n",
    "    posterior = dict()\n",
    "    injections = dict()\n",
    "    \n",
    "    for i_key, key_posterior in enumerate(keys_posterior):\n",
    "        posterior[key_posterior] = test_samples[ii][i_key]\n",
    "        injections[key_posterior] = test_labels[ii][i_key]\n",
    "\n",
    "    posterior = pd.DataFrame(dict(posterior))\n",
    "    result = bilby.result.Result(\n",
    "        label=\"test\",\n",
    "        injection_parameters=injections,\n",
    "        posterior=posterior,\n",
    "        search_parameter_keys=injections.keys(),\n",
    "        priors=priors_Bilby)\n",
    "    results.append(result)\n",
    "\n",
    "bilby.result.make_pp_plot(results,confidence_interval=[0.68,0.95,99.7])"
   ]
  },
  {
   "cell_type": "code",
   "execution_count": null,
   "id": "00c9e003",
   "metadata": {},
   "outputs": [],
   "source": []
  }
 ],
 "metadata": {
  "kernelspec": {
   "display_name": "Python 3 (ipykernel)",
   "language": "python",
   "name": "python3"
  },
  "language_info": {
   "codemirror_mode": {
    "name": "ipython",
    "version": 3
   },
   "file_extension": ".py",
   "mimetype": "text/x-python",
   "name": "python",
   "nbconvert_exporter": "python",
   "pygments_lexer": "ipython3",
   "version": "3.9.12"
  }
 },
 "nbformat": 4,
 "nbformat_minor": 5
}
